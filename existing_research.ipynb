{
 "cells": [
  {
   "cell_type": "code",
   "execution_count": null,
   "metadata": {
    "_cell_guid": "b1076dfc-b9ad-4769-8c92-a6c4dae69d19",
    "_uuid": "8f2839f25d086af736a60e9eeb907d3b93b6e0e5",
    "execution": {
     "iopub.execute_input": "2024-11-24T11:47:12.810156Z",
     "iopub.status.busy": "2024-11-24T11:47:12.809861Z",
     "iopub.status.idle": "2024-11-24T11:47:12.817078Z",
     "shell.execute_reply": "2024-11-24T11:47:12.815947Z",
     "shell.execute_reply.started": "2024-11-24T11:47:12.810127Z"
    },
    "trusted": true
   },
   "outputs": [
    {
     "name": "stdout",
     "output_type": "stream",
     "text": [
      "/kaggle/input/lunc-dataset/survey lung cancer.csv\n"
     ]
    }
   ],
   "source": [
    "\n",
    "\n",
    "import numpy as np # linear algebra\n",
    "import pandas as pd # data processing, CSV file I/O (e.g. pd.read_csv)\n",
    "from sklearn.linear_model import LogisticRegression\n",
    "\n",
    "import os\n",
    "for dirname, _, filenames in os.walk('/kaggle/input'):\n",
    "    for filename in filenames:\n",
    "        print(os.path.join(dirname, filename))\n"
   ]
  },
  {
   "cell_type": "code",
   "execution_count": 37,
   "metadata": {
    "execution": {
     "iopub.execute_input": "2024-11-24T11:47:12.819172Z",
     "iopub.status.busy": "2024-11-24T11:47:12.818542Z",
     "iopub.status.idle": "2024-11-24T11:47:12.828097Z",
     "shell.execute_reply": "2024-11-24T11:47:12.827018Z",
     "shell.execute_reply.started": "2024-11-24T11:47:12.819135Z"
    },
    "trusted": true
   },
   "outputs": [],
   "source": [
    "from sklearn.preprocessing import LabelEncoder\n",
    "from sklearn.metrics import accuracy_score, precision_score, recall_score, f1_score, confusion_matrix, classification_report\n",
    "import seaborn as sns\n",
    "\n",
    "import matplotlib.pyplot as plt\n",
    "from sklearn.ensemble import RandomForestClassifier\n"
   ]
  },
  {
   "cell_type": "code",
   "execution_count": 38,
   "metadata": {
    "execution": {
     "iopub.execute_input": "2024-11-24T11:47:12.829508Z",
     "iopub.status.busy": "2024-11-24T11:47:12.829208Z",
     "iopub.status.idle": "2024-11-24T11:47:12.844367Z",
     "shell.execute_reply": "2024-11-24T11:47:12.843089Z",
     "shell.execute_reply.started": "2024-11-24T11:47:12.829480Z"
    },
    "trusted": true
   },
   "outputs": [],
   "source": [
    "\n",
    "df=pd.read_csv('/kaggle/input/lunc-dataset/survey lung cancer.csv')\n"
   ]
  },
  {
   "cell_type": "code",
   "execution_count": 39,
   "metadata": {
    "execution": {
     "iopub.execute_input": "2024-11-24T11:47:12.846257Z",
     "iopub.status.busy": "2024-11-24T11:47:12.845746Z",
     "iopub.status.idle": "2024-11-24T11:47:12.858556Z",
     "shell.execute_reply": "2024-11-24T11:47:12.856659Z",
     "shell.execute_reply.started": "2024-11-24T11:47:12.846188Z"
    },
    "trusted": true
   },
   "outputs": [
    {
     "data": {
      "text/plain": [
       "Index(['GENDER', 'AGE', 'SMOKING', 'YELLOW_FINGERS', 'ANXIETY',\n",
       "       'PEER_PRESSURE', 'CHRONIC DISEASE', 'FATIGUE ', 'ALLERGY ', 'WHEEZING',\n",
       "       'ALCOHOL CONSUMING', 'COUGHING', 'SHORTNESS OF BREATH',\n",
       "       'SWALLOWING DIFFICULTY', 'CHEST PAIN', 'LUNG_CANCER'],\n",
       "      dtype='object')"
      ]
     },
     "execution_count": 39,
     "metadata": {},
     "output_type": "execute_result"
    }
   ],
   "source": [
    "df.columns"
   ]
  },
  {
   "cell_type": "code",
   "execution_count": 40,
   "metadata": {
    "execution": {
     "iopub.execute_input": "2024-11-24T11:47:12.861665Z",
     "iopub.status.busy": "2024-11-24T11:47:12.860506Z",
     "iopub.status.idle": "2024-11-24T11:47:12.925075Z",
     "shell.execute_reply": "2024-11-24T11:47:12.923855Z",
     "shell.execute_reply.started": "2024-11-24T11:47:12.861610Z"
    },
    "trusted": true
   },
   "outputs": [
    {
     "data": {
      "text/html": [
       "<div>\n",
       "<style scoped>\n",
       "    .dataframe tbody tr th:only-of-type {\n",
       "        vertical-align: middle;\n",
       "    }\n",
       "\n",
       "    .dataframe tbody tr th {\n",
       "        vertical-align: top;\n",
       "    }\n",
       "\n",
       "    .dataframe thead th {\n",
       "        text-align: right;\n",
       "    }\n",
       "</style>\n",
       "<table border=\"1\" class=\"dataframe\">\n",
       "  <thead>\n",
       "    <tr style=\"text-align: right;\">\n",
       "      <th></th>\n",
       "      <th>AGE</th>\n",
       "      <th>SMOKING</th>\n",
       "      <th>YELLOW_FINGERS</th>\n",
       "      <th>ANXIETY</th>\n",
       "      <th>PEER_PRESSURE</th>\n",
       "      <th>CHRONIC DISEASE</th>\n",
       "      <th>FATIGUE</th>\n",
       "      <th>ALLERGY</th>\n",
       "      <th>WHEEZING</th>\n",
       "      <th>ALCOHOL CONSUMING</th>\n",
       "      <th>COUGHING</th>\n",
       "      <th>SHORTNESS OF BREATH</th>\n",
       "      <th>SWALLOWING DIFFICULTY</th>\n",
       "      <th>CHEST PAIN</th>\n",
       "    </tr>\n",
       "  </thead>\n",
       "  <tbody>\n",
       "    <tr>\n",
       "      <th>count</th>\n",
       "      <td>309.000000</td>\n",
       "      <td>309.000000</td>\n",
       "      <td>309.000000</td>\n",
       "      <td>309.000000</td>\n",
       "      <td>309.000000</td>\n",
       "      <td>309.000000</td>\n",
       "      <td>309.000000</td>\n",
       "      <td>309.000000</td>\n",
       "      <td>309.000000</td>\n",
       "      <td>309.000000</td>\n",
       "      <td>309.000000</td>\n",
       "      <td>309.000000</td>\n",
       "      <td>309.000000</td>\n",
       "      <td>309.000000</td>\n",
       "    </tr>\n",
       "    <tr>\n",
       "      <th>mean</th>\n",
       "      <td>62.673139</td>\n",
       "      <td>1.563107</td>\n",
       "      <td>1.569579</td>\n",
       "      <td>1.498382</td>\n",
       "      <td>1.501618</td>\n",
       "      <td>1.504854</td>\n",
       "      <td>1.673139</td>\n",
       "      <td>1.556634</td>\n",
       "      <td>1.556634</td>\n",
       "      <td>1.556634</td>\n",
       "      <td>1.579288</td>\n",
       "      <td>1.640777</td>\n",
       "      <td>1.469256</td>\n",
       "      <td>1.556634</td>\n",
       "    </tr>\n",
       "    <tr>\n",
       "      <th>std</th>\n",
       "      <td>8.210301</td>\n",
       "      <td>0.496806</td>\n",
       "      <td>0.495938</td>\n",
       "      <td>0.500808</td>\n",
       "      <td>0.500808</td>\n",
       "      <td>0.500787</td>\n",
       "      <td>0.469827</td>\n",
       "      <td>0.497588</td>\n",
       "      <td>0.497588</td>\n",
       "      <td>0.497588</td>\n",
       "      <td>0.494474</td>\n",
       "      <td>0.480551</td>\n",
       "      <td>0.499863</td>\n",
       "      <td>0.497588</td>\n",
       "    </tr>\n",
       "    <tr>\n",
       "      <th>min</th>\n",
       "      <td>21.000000</td>\n",
       "      <td>1.000000</td>\n",
       "      <td>1.000000</td>\n",
       "      <td>1.000000</td>\n",
       "      <td>1.000000</td>\n",
       "      <td>1.000000</td>\n",
       "      <td>1.000000</td>\n",
       "      <td>1.000000</td>\n",
       "      <td>1.000000</td>\n",
       "      <td>1.000000</td>\n",
       "      <td>1.000000</td>\n",
       "      <td>1.000000</td>\n",
       "      <td>1.000000</td>\n",
       "      <td>1.000000</td>\n",
       "    </tr>\n",
       "    <tr>\n",
       "      <th>25%</th>\n",
       "      <td>57.000000</td>\n",
       "      <td>1.000000</td>\n",
       "      <td>1.000000</td>\n",
       "      <td>1.000000</td>\n",
       "      <td>1.000000</td>\n",
       "      <td>1.000000</td>\n",
       "      <td>1.000000</td>\n",
       "      <td>1.000000</td>\n",
       "      <td>1.000000</td>\n",
       "      <td>1.000000</td>\n",
       "      <td>1.000000</td>\n",
       "      <td>1.000000</td>\n",
       "      <td>1.000000</td>\n",
       "      <td>1.000000</td>\n",
       "    </tr>\n",
       "    <tr>\n",
       "      <th>50%</th>\n",
       "      <td>62.000000</td>\n",
       "      <td>2.000000</td>\n",
       "      <td>2.000000</td>\n",
       "      <td>1.000000</td>\n",
       "      <td>2.000000</td>\n",
       "      <td>2.000000</td>\n",
       "      <td>2.000000</td>\n",
       "      <td>2.000000</td>\n",
       "      <td>2.000000</td>\n",
       "      <td>2.000000</td>\n",
       "      <td>2.000000</td>\n",
       "      <td>2.000000</td>\n",
       "      <td>1.000000</td>\n",
       "      <td>2.000000</td>\n",
       "    </tr>\n",
       "    <tr>\n",
       "      <th>75%</th>\n",
       "      <td>69.000000</td>\n",
       "      <td>2.000000</td>\n",
       "      <td>2.000000</td>\n",
       "      <td>2.000000</td>\n",
       "      <td>2.000000</td>\n",
       "      <td>2.000000</td>\n",
       "      <td>2.000000</td>\n",
       "      <td>2.000000</td>\n",
       "      <td>2.000000</td>\n",
       "      <td>2.000000</td>\n",
       "      <td>2.000000</td>\n",
       "      <td>2.000000</td>\n",
       "      <td>2.000000</td>\n",
       "      <td>2.000000</td>\n",
       "    </tr>\n",
       "    <tr>\n",
       "      <th>max</th>\n",
       "      <td>87.000000</td>\n",
       "      <td>2.000000</td>\n",
       "      <td>2.000000</td>\n",
       "      <td>2.000000</td>\n",
       "      <td>2.000000</td>\n",
       "      <td>2.000000</td>\n",
       "      <td>2.000000</td>\n",
       "      <td>2.000000</td>\n",
       "      <td>2.000000</td>\n",
       "      <td>2.000000</td>\n",
       "      <td>2.000000</td>\n",
       "      <td>2.000000</td>\n",
       "      <td>2.000000</td>\n",
       "      <td>2.000000</td>\n",
       "    </tr>\n",
       "  </tbody>\n",
       "</table>\n",
       "</div>"
      ],
      "text/plain": [
       "              AGE     SMOKING  YELLOW_FINGERS     ANXIETY  PEER_PRESSURE  \\\n",
       "count  309.000000  309.000000      309.000000  309.000000     309.000000   \n",
       "mean    62.673139    1.563107        1.569579    1.498382       1.501618   \n",
       "std      8.210301    0.496806        0.495938    0.500808       0.500808   \n",
       "min     21.000000    1.000000        1.000000    1.000000       1.000000   \n",
       "25%     57.000000    1.000000        1.000000    1.000000       1.000000   \n",
       "50%     62.000000    2.000000        2.000000    1.000000       2.000000   \n",
       "75%     69.000000    2.000000        2.000000    2.000000       2.000000   \n",
       "max     87.000000    2.000000        2.000000    2.000000       2.000000   \n",
       "\n",
       "       CHRONIC DISEASE    FATIGUE     ALLERGY     WHEEZING  ALCOHOL CONSUMING  \\\n",
       "count       309.000000  309.000000  309.000000  309.000000         309.000000   \n",
       "mean          1.504854    1.673139    1.556634    1.556634           1.556634   \n",
       "std           0.500787    0.469827    0.497588    0.497588           0.497588   \n",
       "min           1.000000    1.000000    1.000000    1.000000           1.000000   \n",
       "25%           1.000000    1.000000    1.000000    1.000000           1.000000   \n",
       "50%           2.000000    2.000000    2.000000    2.000000           2.000000   \n",
       "75%           2.000000    2.000000    2.000000    2.000000           2.000000   \n",
       "max           2.000000    2.000000    2.000000    2.000000           2.000000   \n",
       "\n",
       "         COUGHING  SHORTNESS OF BREATH  SWALLOWING DIFFICULTY  CHEST PAIN  \n",
       "count  309.000000           309.000000             309.000000  309.000000  \n",
       "mean     1.579288             1.640777               1.469256    1.556634  \n",
       "std      0.494474             0.480551               0.499863    0.497588  \n",
       "min      1.000000             1.000000               1.000000    1.000000  \n",
       "25%      1.000000             1.000000               1.000000    1.000000  \n",
       "50%      2.000000             2.000000               1.000000    2.000000  \n",
       "75%      2.000000             2.000000               2.000000    2.000000  \n",
       "max      2.000000             2.000000               2.000000    2.000000  "
      ]
     },
     "execution_count": 40,
     "metadata": {},
     "output_type": "execute_result"
    }
   ],
   "source": [
    "df.describe()"
   ]
  },
  {
   "cell_type": "code",
   "execution_count": 41,
   "metadata": {
    "execution": {
     "iopub.execute_input": "2024-11-24T11:47:12.926882Z",
     "iopub.status.busy": "2024-11-24T11:47:12.926481Z",
     "iopub.status.idle": "2024-11-24T11:47:12.939047Z",
     "shell.execute_reply": "2024-11-24T11:47:12.937869Z",
     "shell.execute_reply.started": "2024-11-24T11:47:12.926839Z"
    },
    "trusted": true
   },
   "outputs": [
    {
     "name": "stdout",
     "output_type": "stream",
     "text": [
      "<class 'pandas.core.frame.DataFrame'>\n",
      "RangeIndex: 309 entries, 0 to 308\n",
      "Data columns (total 16 columns):\n",
      " #   Column                 Non-Null Count  Dtype \n",
      "---  ------                 --------------  ----- \n",
      " 0   GENDER                 309 non-null    object\n",
      " 1   AGE                    309 non-null    int64 \n",
      " 2   SMOKING                309 non-null    int64 \n",
      " 3   YELLOW_FINGERS         309 non-null    int64 \n",
      " 4   ANXIETY                309 non-null    int64 \n",
      " 5   PEER_PRESSURE          309 non-null    int64 \n",
      " 6   CHRONIC DISEASE        309 non-null    int64 \n",
      " 7   FATIGUE                309 non-null    int64 \n",
      " 8   ALLERGY                309 non-null    int64 \n",
      " 9   WHEEZING               309 non-null    int64 \n",
      " 10  ALCOHOL CONSUMING      309 non-null    int64 \n",
      " 11  COUGHING               309 non-null    int64 \n",
      " 12  SHORTNESS OF BREATH    309 non-null    int64 \n",
      " 13  SWALLOWING DIFFICULTY  309 non-null    int64 \n",
      " 14  CHEST PAIN             309 non-null    int64 \n",
      " 15  LUNG_CANCER            309 non-null    object\n",
      "dtypes: int64(14), object(2)\n",
      "memory usage: 38.8+ KB\n"
     ]
    }
   ],
   "source": [
    "df.info()"
   ]
  },
  {
   "cell_type": "code",
   "execution_count": 42,
   "metadata": {
    "execution": {
     "iopub.execute_input": "2024-11-24T11:47:12.940833Z",
     "iopub.status.busy": "2024-11-24T11:47:12.940477Z",
     "iopub.status.idle": "2024-11-24T11:47:12.954496Z",
     "shell.execute_reply": "2024-11-24T11:47:12.953251Z",
     "shell.execute_reply.started": "2024-11-24T11:47:12.940788Z"
    },
    "trusted": true
   },
   "outputs": [
    {
     "name": "stderr",
     "output_type": "stream",
     "text": [
      "/tmp/ipykernel_30/804902710.py:1: FutureWarning: Downcasting behavior in `replace` is deprecated and will be removed in a future version. To retain the old behavior, explicitly call `result.infer_objects(copy=False)`. To opt-in to the future behavior, set `pd.set_option('future.no_silent_downcasting', True)`\n",
      "  df['LUNG_CANCER'] = df['LUNG_CANCER'].replace({'NO': 0, 'YES': 1})\n"
     ]
    }
   ],
   "source": [
    "df['LUNG_CANCER'] = df['LUNG_CANCER'].replace({'NO': 0, 'YES': 1})\n"
   ]
  },
  {
   "cell_type": "code",
   "execution_count": 43,
   "metadata": {
    "execution": {
     "iopub.execute_input": "2024-11-24T11:47:12.956248Z",
     "iopub.status.busy": "2024-11-24T11:47:12.955863Z",
     "iopub.status.idle": "2024-11-24T11:47:12.967074Z",
     "shell.execute_reply": "2024-11-24T11:47:12.965690Z",
     "shell.execute_reply.started": "2024-11-24T11:47:12.956208Z"
    },
    "trusted": true
   },
   "outputs": [],
   "source": [
    "\n",
    "# Convert categorical Gender column to numerical using Label Encoding\n",
    "label_encoder = LabelEncoder()\n",
    "df['GENDER'] = label_encoder.fit_transform(df['GENDER'])"
   ]
  },
  {
   "cell_type": "code",
   "execution_count": 44,
   "metadata": {
    "execution": {
     "iopub.execute_input": "2024-11-24T11:47:12.969217Z",
     "iopub.status.busy": "2024-11-24T11:47:12.968659Z",
     "iopub.status.idle": "2024-11-24T11:47:12.985553Z",
     "shell.execute_reply": "2024-11-24T11:47:12.984182Z",
     "shell.execute_reply.started": "2024-11-24T11:47:12.969165Z"
    },
    "trusted": true
   },
   "outputs": [],
   "source": [
    "numeric_columns = df.select_dtypes(include=['int64'])"
   ]
  },
  {
   "cell_type": "code",
   "execution_count": 45,
   "metadata": {
    "execution": {
     "iopub.execute_input": "2024-11-24T11:47:12.987575Z",
     "iopub.status.busy": "2024-11-24T11:47:12.987124Z",
     "iopub.status.idle": "2024-11-24T11:47:13.008922Z",
     "shell.execute_reply": "2024-11-24T11:47:13.007133Z",
     "shell.execute_reply.started": "2024-11-24T11:47:12.987528Z"
    },
    "trusted": true
   },
   "outputs": [
    {
     "name": "stdout",
     "output_type": "stream",
     "text": [
      "                         GENDER       AGE   SMOKING  YELLOW_FINGERS   ANXIETY  \\\n",
      "GENDER                 1.000000  0.021306  0.036277       -0.212959 -0.152127   \n",
      "AGE                    0.021306  1.000000 -0.084475        0.005205  0.053170   \n",
      "SMOKING                0.036277 -0.084475  1.000000       -0.014585  0.160267   \n",
      "YELLOW_FINGERS        -0.212959  0.005205 -0.014585        1.000000  0.565829   \n",
      "ANXIETY               -0.152127  0.053170  0.160267        0.565829  1.000000   \n",
      "PEER_PRESSURE         -0.275564  0.018685 -0.042822        0.323083  0.216841   \n",
      "CHRONIC DISEASE       -0.204606 -0.012642 -0.141522        0.041122 -0.009678   \n",
      "FATIGUE               -0.083560  0.012614 -0.029575       -0.118058 -0.188538   \n",
      "ALLERGY                0.154251  0.027990  0.001913       -0.144300 -0.165750   \n",
      "WHEEZING               0.141207  0.055011 -0.129426       -0.078515 -0.191807   \n",
      "ALCOHOL CONSUMING      0.454268  0.058985 -0.050623       -0.289025 -0.165750   \n",
      "COUGHING               0.133303  0.169950 -0.129471       -0.012640 -0.225644   \n",
      "SHORTNESS OF BREATH   -0.064911 -0.017513  0.061264       -0.105944 -0.144077   \n",
      "SWALLOWING DIFFICULTY -0.078161 -0.001270  0.030718        0.345904  0.489403   \n",
      "CHEST PAIN             0.362958 -0.018104  0.120117       -0.104829 -0.113634   \n",
      "LUNG_CANCER            0.067254  0.089465  0.058179        0.181339  0.144947   \n",
      "\n",
      "                       PEER_PRESSURE  CHRONIC DISEASE  FATIGUE   ALLERGY   \\\n",
      "GENDER                     -0.275564        -0.204606 -0.083560  0.154251   \n",
      "AGE                         0.018685        -0.012642  0.012614  0.027990   \n",
      "SMOKING                    -0.042822        -0.141522 -0.029575  0.001913   \n",
      "YELLOW_FINGERS              0.323083         0.041122 -0.118058 -0.144300   \n",
      "ANXIETY                     0.216841        -0.009678 -0.188538 -0.165750   \n",
      "PEER_PRESSURE               1.000000         0.048515  0.078148 -0.081800   \n",
      "CHRONIC DISEASE             0.048515         1.000000 -0.110529  0.106386   \n",
      "FATIGUE                     0.078148        -0.110529  1.000000  0.003056   \n",
      "ALLERGY                    -0.081800         0.106386  0.003056  1.000000   \n",
      "WHEEZING                   -0.068771        -0.049967  0.141937  0.173867   \n",
      "ALCOHOL CONSUMING          -0.159973         0.002150 -0.191377  0.344339   \n",
      "COUGHING                   -0.089019        -0.175287  0.146856  0.189524   \n",
      "SHORTNESS OF BREATH        -0.220175        -0.026459  0.441745 -0.030056   \n",
      "SWALLOWING DIFFICULTY       0.366590         0.075176 -0.132790 -0.061508   \n",
      "CHEST PAIN                 -0.094828        -0.036938 -0.010832  0.239433   \n",
      "LUNG_CANCER                 0.186388         0.110891  0.150673  0.327766   \n",
      "\n",
      "                       WHEEZING  ALCOHOL CONSUMING  COUGHING  \\\n",
      "GENDER                 0.141207           0.454268  0.133303   \n",
      "AGE                    0.055011           0.058985  0.169950   \n",
      "SMOKING               -0.129426          -0.050623 -0.129471   \n",
      "YELLOW_FINGERS        -0.078515          -0.289025 -0.012640   \n",
      "ANXIETY               -0.191807          -0.165750 -0.225644   \n",
      "PEER_PRESSURE         -0.068771          -0.159973 -0.089019   \n",
      "CHRONIC DISEASE       -0.049967           0.002150 -0.175287   \n",
      "FATIGUE                0.141937          -0.191377  0.146856   \n",
      "ALLERGY                0.173867           0.344339  0.189524   \n",
      "WHEEZING               1.000000           0.265659  0.374265   \n",
      "ALCOHOL CONSUMING      0.265659           1.000000  0.202720   \n",
      "COUGHING               0.374265           0.202720  1.000000   \n",
      "SHORTNESS OF BREATH    0.037834          -0.179416  0.277385   \n",
      "SWALLOWING DIFFICULTY  0.069027          -0.009294 -0.157586   \n",
      "CHEST PAIN             0.147640           0.331226  0.083958   \n",
      "LUNG_CANCER            0.249300           0.288533  0.248570   \n",
      "\n",
      "                       SHORTNESS OF BREATH  SWALLOWING DIFFICULTY  CHEST PAIN  \\\n",
      "GENDER                           -0.064911              -0.078161    0.362958   \n",
      "AGE                              -0.017513              -0.001270   -0.018104   \n",
      "SMOKING                           0.061264               0.030718    0.120117   \n",
      "YELLOW_FINGERS                   -0.105944               0.345904   -0.104829   \n",
      "ANXIETY                          -0.144077               0.489403   -0.113634   \n",
      "PEER_PRESSURE                    -0.220175               0.366590   -0.094828   \n",
      "CHRONIC DISEASE                  -0.026459               0.075176   -0.036938   \n",
      "FATIGUE                           0.441745              -0.132790   -0.010832   \n",
      "ALLERGY                          -0.030056              -0.061508    0.239433   \n",
      "WHEEZING                          0.037834               0.069027    0.147640   \n",
      "ALCOHOL CONSUMING                -0.179416              -0.009294    0.331226   \n",
      "COUGHING                          0.277385              -0.157586    0.083958   \n",
      "SHORTNESS OF BREATH               1.000000              -0.161015    0.024256   \n",
      "SWALLOWING DIFFICULTY            -0.161015               1.000000    0.069027   \n",
      "CHEST PAIN                        0.024256               0.069027    1.000000   \n",
      "LUNG_CANCER                       0.060738               0.259730    0.190451   \n",
      "\n",
      "                       LUNG_CANCER  \n",
      "GENDER                    0.067254  \n",
      "AGE                       0.089465  \n",
      "SMOKING                   0.058179  \n",
      "YELLOW_FINGERS            0.181339  \n",
      "ANXIETY                   0.144947  \n",
      "PEER_PRESSURE             0.186388  \n",
      "CHRONIC DISEASE           0.110891  \n",
      "FATIGUE                   0.150673  \n",
      "ALLERGY                   0.327766  \n",
      "WHEEZING                  0.249300  \n",
      "ALCOHOL CONSUMING         0.288533  \n",
      "COUGHING                  0.248570  \n",
      "SHORTNESS OF BREATH       0.060738  \n",
      "SWALLOWING DIFFICULTY     0.259730  \n",
      "CHEST PAIN                0.190451  \n",
      "LUNG_CANCER               1.000000  \n"
     ]
    }
   ],
   "source": [
    "# correlation_matrix = df.corr()\n",
    "correlation_matrix = numeric_columns.corr()\n",
    "\n",
    "print(correlation_matrix)"
   ]
  },
  {
   "cell_type": "markdown",
   "metadata": {},
   "source": [
    "Observation: The correlation between LUNG_CANCER and ['GENDER','AGE','SMOKING','SHORTNESS OF BREATH'] are very low. Therefore, we can consider this feature less relevant in this case and drop it from the DataFrame."
   ]
  },
  {
   "cell_type": "code",
   "execution_count": 46,
   "metadata": {
    "execution": {
     "iopub.execute_input": "2024-11-24T11:47:13.010962Z",
     "iopub.status.busy": "2024-11-24T11:47:13.010496Z",
     "iopub.status.idle": "2024-11-24T11:47:13.025803Z",
     "shell.execute_reply": "2024-11-24T11:47:13.024322Z",
     "shell.execute_reply.started": "2024-11-24T11:47:13.010907Z"
    },
    "trusted": true
   },
   "outputs": [],
   "source": [
    "df1 = df.drop(columns=['GENDER','AGE','SMOKING'])\n"
   ]
  },
  {
   "cell_type": "code",
   "execution_count": 47,
   "metadata": {
    "execution": {
     "iopub.execute_input": "2024-11-24T11:47:13.028026Z",
     "iopub.status.busy": "2024-11-24T11:47:13.027465Z",
     "iopub.status.idle": "2024-11-24T11:47:13.042444Z",
     "shell.execute_reply": "2024-11-24T11:47:13.040811Z",
     "shell.execute_reply.started": "2024-11-24T11:47:13.027964Z"
    },
    "trusted": true
   },
   "outputs": [
    {
     "data": {
      "text/plain": [
       "12"
      ]
     },
     "execution_count": 47,
     "metadata": {},
     "output_type": "execute_result"
    }
   ],
   "source": [
    "num_columns = df1.shape[1]\n",
    "num_columns=num_columns-1\n",
    "num_columns"
   ]
  },
  {
   "cell_type": "code",
   "execution_count": 48,
   "metadata": {
    "execution": {
     "iopub.execute_input": "2024-11-24T11:47:13.044984Z",
     "iopub.status.busy": "2024-11-24T11:47:13.044382Z",
     "iopub.status.idle": "2024-11-24T11:47:13.058413Z",
     "shell.execute_reply": "2024-11-24T11:47:13.057171Z",
     "shell.execute_reply.started": "2024-11-24T11:47:13.044919Z"
    },
    "trusted": true
   },
   "outputs": [
    {
     "data": {
      "text/plain": [
       "Index(['YELLOW_FINGERS', 'ANXIETY', 'PEER_PRESSURE', 'CHRONIC DISEASE',\n",
       "       'FATIGUE ', 'ALLERGY ', 'WHEEZING', 'ALCOHOL CONSUMING', 'COUGHING',\n",
       "       'SHORTNESS OF BREATH', 'SWALLOWING DIFFICULTY', 'CHEST PAIN',\n",
       "       'LUNG_CANCER'],\n",
       "      dtype='object')"
      ]
     },
     "execution_count": 48,
     "metadata": {},
     "output_type": "execute_result"
    }
   ],
   "source": [
    "df1.columns"
   ]
  },
  {
   "cell_type": "code",
   "execution_count": 49,
   "metadata": {
    "execution": {
     "iopub.execute_input": "2024-11-24T11:47:13.060644Z",
     "iopub.status.busy": "2024-11-24T11:47:13.060113Z",
     "iopub.status.idle": "2024-11-24T11:47:13.074291Z",
     "shell.execute_reply": "2024-11-24T11:47:13.072845Z",
     "shell.execute_reply.started": "2024-11-24T11:47:13.060588Z"
    },
    "trusted": true
   },
   "outputs": [],
   "source": [
    "X=df1.iloc[:,0:num_columns] #selects all rows and the first 15 columns\n",
    "Y=df1.iloc[:,-1]   #selects all rows and the last column."
   ]
  },
  {
   "cell_type": "code",
   "execution_count": 50,
   "metadata": {
    "execution": {
     "iopub.execute_input": "2024-11-24T11:47:13.076296Z",
     "iopub.status.busy": "2024-11-24T11:47:13.075933Z",
     "iopub.status.idle": "2024-11-24T11:47:13.096641Z",
     "shell.execute_reply": "2024-11-24T11:47:13.095419Z",
     "shell.execute_reply.started": "2024-11-24T11:47:13.076265Z"
    },
    "trusted": true
   },
   "outputs": [
    {
     "data": {
      "text/plain": [
       "Index(['YELLOW_FINGERS', 'ANXIETY', 'PEER_PRESSURE', 'CHRONIC DISEASE',\n",
       "       'FATIGUE ', 'ALLERGY ', 'WHEEZING', 'ALCOHOL CONSUMING', 'COUGHING',\n",
       "       'SHORTNESS OF BREATH', 'SWALLOWING DIFFICULTY', 'CHEST PAIN'],\n",
       "      dtype='object')"
      ]
     },
     "execution_count": 50,
     "metadata": {},
     "output_type": "execute_result"
    }
   ],
   "source": [
    "X.columns"
   ]
  },
  {
   "cell_type": "code",
   "execution_count": 51,
   "metadata": {
    "execution": {
     "iopub.execute_input": "2024-11-24T11:47:13.098753Z",
     "iopub.status.busy": "2024-11-24T11:47:13.098271Z",
     "iopub.status.idle": "2024-11-24T11:47:13.114017Z",
     "shell.execute_reply": "2024-11-24T11:47:13.112872Z",
     "shell.execute_reply.started": "2024-11-24T11:47:13.098702Z"
    },
    "trusted": true
   },
   "outputs": [
    {
     "name": "stdout",
     "output_type": "stream",
     "text": [
      "<class 'pandas.core.series.Series'>\n",
      "RangeIndex: 309 entries, 0 to 308\n",
      "Series name: LUNG_CANCER\n",
      "Non-Null Count  Dtype\n",
      "--------------  -----\n",
      "309 non-null    int64\n",
      "dtypes: int64(1)\n",
      "memory usage: 2.5 KB\n"
     ]
    }
   ],
   "source": [
    "Y.info()"
   ]
  },
  {
   "cell_type": "code",
   "execution_count": 52,
   "metadata": {
    "execution": {
     "iopub.execute_input": "2024-11-24T11:47:13.115915Z",
     "iopub.status.busy": "2024-11-24T11:47:13.115431Z",
     "iopub.status.idle": "2024-11-24T11:47:13.127152Z",
     "shell.execute_reply": "2024-11-24T11:47:13.125734Z",
     "shell.execute_reply.started": "2024-11-24T11:47:13.115859Z"
    },
    "trusted": true
   },
   "outputs": [],
   "source": [
    "\n",
    "# # Convert categorical Gender column to numerical using Label Encoding\n",
    "# label_encoder = LabelEncoder()\n",
    "# X['GENDER'] = label_encoder.fit_transform(X['GENDER'])\n",
    "     "
   ]
  },
  {
   "cell_type": "code",
   "execution_count": 53,
   "metadata": {
    "execution": {
     "iopub.execute_input": "2024-11-24T11:47:13.129149Z",
     "iopub.status.busy": "2024-11-24T11:47:13.128741Z",
     "iopub.status.idle": "2024-11-24T11:47:13.143661Z",
     "shell.execute_reply": "2024-11-24T11:47:13.142290Z",
     "shell.execute_reply.started": "2024-11-24T11:47:13.129115Z"
    },
    "trusted": true
   },
   "outputs": [],
   "source": [
    "from sklearn.model_selection import train_test_split\n",
    "X_train,X_test,Y_train,Y_test=train_test_split(X,Y,test_size=0.2,random_state=0)"
   ]
  },
  {
   "cell_type": "code",
   "execution_count": 54,
   "metadata": {
    "execution": {
     "iopub.execute_input": "2024-11-24T11:47:13.145824Z",
     "iopub.status.busy": "2024-11-24T11:47:13.145335Z",
     "iopub.status.idle": "2024-11-24T11:47:13.313061Z",
     "shell.execute_reply": "2024-11-24T11:47:13.311097Z",
     "shell.execute_reply.started": "2024-11-24T11:47:13.145750Z"
    },
    "trusted": true
   },
   "outputs": [
    {
     "data": {
      "image/png": "[encoded data removed]",
      "text/plain": [
       "<Figure size 640x480 with 1 Axes>"
      ]
     },
     "metadata": {},
     "output_type": "display_data"
    }
   ],
   "source": [
    "# Plot the proportion of training and testing data\n",
    "labels = ['Train', 'Test']\n",
    "sizes = [len(X_train), len(X_test)]\n",
    "plt.pie(sizes, labels=labels, autopct='%1.1f%%', startangle=90)\n",
    "plt.title('Train-Test Split Proportion')\n",
    "plt.savefig('bar.jpg')\n",
    "plt.show()\n",
    "     "
   ]
  },
  {
   "cell_type": "markdown",
   "metadata": {},
   "source": [
    "## Model Training: Logistic Regression\n"
   ]
  },
  {
   "cell_type": "code",
   "execution_count": 55,
   "metadata": {
    "execution": {
     "iopub.execute_input": "2024-11-24T11:47:13.316781Z",
     "iopub.status.busy": "2024-11-24T11:47:13.316114Z",
     "iopub.status.idle": "2024-11-24T11:47:13.326388Z",
     "shell.execute_reply": "2024-11-24T11:47:13.323234Z",
     "shell.execute_reply.started": "2024-11-24T11:47:13.316695Z"
    },
    "trusted": true
   },
   "outputs": [],
   "source": [
    "model = LogisticRegression()\n",
    "\n"
   ]
  },
  {
   "cell_type": "code",
   "execution_count": 56,
   "metadata": {
    "execution": {
     "iopub.execute_input": "2024-11-24T11:47:13.329249Z",
     "iopub.status.busy": "2024-11-24T11:47:13.328595Z",
     "iopub.status.idle": "2024-11-24T11:47:13.375654Z",
     "shell.execute_reply": "2024-11-24T11:47:13.374185Z",
     "shell.execute_reply.started": "2024-11-24T11:47:13.329181Z"
    },
    "trusted": true
   },
   "outputs": [
    {
     "data": {
      "text/html": [
       "<style>#sk-container-id-3 {color: black;background-color: white;}#sk-container-id-3 pre{padding: 0;}#sk-container-id-3 div.sk-toggleable {background-color: white;}#sk-container-id-3 label.sk-toggleable__label {cursor: pointer;display: block;width: 100%;margin-bottom: 0;padding: 0.3em;box-sizing: border-box;text-align: center;}#sk-container-id-3 label.sk-toggleable__label-arrow:before {content: \"▸\";float: left;margin-right: 0.25em;color: #696969;}#sk-container-id-3 label.sk-toggleable__label-arrow:hover:before {color: black;}#sk-container-id-3 div.sk-estimator:hover label.sk-toggleable__label-arrow:before {color: black;}#sk-container-id-3 div.sk-toggleable__content {max-height: 0;max-width: 0;overflow: hidden;text-align: left;background-color: #f0f8ff;}#sk-container-id-3 div.sk-toggleable__content pre {margin: 0.2em;color: black;border-radius: 0.25em;background-color: #f0f8ff;}#sk-container-id-3 input.sk-toggleable__control:checked~div.sk-toggleable__content {max-height: 200px;max-width: 100%;overflow: auto;}#sk-container-id-3 input.sk-toggleable__control:checked~label.sk-toggleable__label-arrow:before {content: \"▾\";}#sk-container-id-3 div.sk-estimator input.sk-toggleable__control:checked~label.sk-toggleable__label {background-color: #d4ebff;}#sk-container-id-3 div.sk-label input.sk-toggleable__control:checked~label.sk-toggleable__label {background-color: #d4ebff;}#sk-container-id-3 input.sk-hidden--visually {border: 0;clip: rect(1px 1px 1px 1px);clip: rect(1px, 1px, 1px, 1px);height: 1px;margin: -1px;overflow: hidden;padding: 0;position: absolute;width: 1px;}#sk-container-id-3 div.sk-estimator {font-family: monospace;background-color: #f0f8ff;border: 1px dotted black;border-radius: 0.25em;box-sizing: border-box;margin-bottom: 0.5em;}#sk-container-id-3 div.sk-estimator:hover {background-color: #d4ebff;}#sk-container-id-3 div.sk-parallel-item::after {content: \"\";width: 100%;border-bottom: 1px solid gray;flex-grow: 1;}#sk-container-id-3 div.sk-label:hover label.sk-toggleable__label {background-color: #d4ebff;}#sk-container-id-3 div.sk-serial::before {content: \"\";position: absolute;border-left: 1px solid gray;box-sizing: border-box;top: 0;bottom: 0;left: 50%;z-index: 0;}#sk-container-id-3 div.sk-serial {display: flex;flex-direction: column;align-items: center;background-color: white;padding-right: 0.2em;padding-left: 0.2em;position: relative;}#sk-container-id-3 div.sk-item {position: relative;z-index: 1;}#sk-container-id-3 div.sk-parallel {display: flex;align-items: stretch;justify-content: center;background-color: white;position: relative;}#sk-container-id-3 div.sk-item::before, #sk-container-id-3 div.sk-parallel-item::before {content: \"\";position: absolute;border-left: 1px solid gray;box-sizing: border-box;top: 0;bottom: 0;left: 50%;z-index: -1;}#sk-container-id-3 div.sk-parallel-item {display: flex;flex-direction: column;z-index: 1;position: relative;background-color: white;}#sk-container-id-3 div.sk-parallel-item:first-child::after {align-self: flex-end;width: 50%;}#sk-container-id-3 div.sk-parallel-item:last-child::after {align-self: flex-start;width: 50%;}#sk-container-id-3 div.sk-parallel-item:only-child::after {width: 0;}#sk-container-id-3 div.sk-dashed-wrapped {border: 1px dashed gray;margin: 0 0.4em 0.5em 0.4em;box-sizing: border-box;padding-bottom: 0.4em;background-color: white;}#sk-container-id-3 div.sk-label label {font-family: monospace;font-weight: bold;display: inline-block;line-height: 1.2em;}#sk-container-id-3 div.sk-label-container {text-align: center;}#sk-container-id-3 div.sk-container {/* jupyter's `normalize.less` sets `[hidden] { display: none; }` but bootstrap.min.css set `[hidden] { display: none !important; }` so we also need the `!important` here to be able to override the default hidden behavior on the sphinx rendered scikit-learn.org. See: https://github.com/scikit-learn/scikit-learn/issues/21755 */display: inline-block !important;position: relative;}#sk-container-id-3 div.sk-text-repr-fallback {display: none;}</style><div id=\"sk-container-id-3\" class=\"sk-top-container\"><div class=\"sk-text-repr-fallback\"><pre>LogisticRegression()</pre><b>In a Jupyter environment, please rerun this cell to show the HTML representation or trust the notebook. <br />On GitHub, the HTML representation is unable to render, please try loading this page with nbviewer.org.</b></div><div class=\"sk-container\" hidden><div class=\"sk-item\"><div class=\"sk-estimator sk-toggleable\"><input class=\"sk-toggleable__control sk-hidden--visually\" id=\"sk-estimator-id-3\" type=\"checkbox\" checked><label for=\"sk-estimator-id-3\" class=\"sk-toggleable__label sk-toggleable__label-arrow\">LogisticRegression</label><div class=\"sk-toggleable__content\"><pre>LogisticRegression()</pre></div></div></div></div></div>"
      ],
      "text/plain": [
       "LogisticRegression()"
      ]
     },
     "execution_count": 56,
     "metadata": {},
     "output_type": "execute_result"
    }
   ],
   "source": [
    "model.fit(X_train, Y_train)"
   ]
  },
  {
   "cell_type": "code",
   "execution_count": 57,
   "metadata": {
    "execution": {
     "iopub.execute_input": "2024-11-24T11:47:13.378112Z",
     "iopub.status.busy": "2024-11-24T11:47:13.377738Z",
     "iopub.status.idle": "2024-11-24T11:47:13.384681Z",
     "shell.execute_reply": "2024-11-24T11:47:13.383345Z",
     "shell.execute_reply.started": "2024-11-24T11:47:13.378077Z"
    },
    "trusted": true
   },
   "outputs": [],
   "source": [
    "Y_pred = model.predict(X_test)"
   ]
  },
  {
   "cell_type": "code",
   "execution_count": 58,
   "metadata": {
    "execution": {
     "iopub.execute_input": "2024-11-24T11:47:13.387089Z",
     "iopub.status.busy": "2024-11-24T11:47:13.386581Z",
     "iopub.status.idle": "2024-11-24T11:47:13.402206Z",
     "shell.execute_reply": "2024-11-24T11:47:13.400944Z",
     "shell.execute_reply.started": "2024-11-24T11:47:13.387039Z"
    },
    "trusted": true
   },
   "outputs": [
    {
     "name": "stdout",
     "output_type": "stream",
     "text": [
      "Logistic Regression Accuracy: 0.90\n"
     ]
    }
   ],
   "source": [
    "accuracy_lr = accuracy_score(Y_test, Y_pred)\n",
    "print(f\"Logistic Regression Accuracy: {accuracy_lr:.2f}\")"
   ]
  },
  {
   "cell_type": "markdown",
   "metadata": {},
   "source": [
    "### Precision score: the ratio of correctly predicted positive observations to the total predicted positives"
   ]
  },
  {
   "cell_type": "code",
   "execution_count": 59,
   "metadata": {
    "execution": {
     "iopub.execute_input": "2024-11-24T11:47:13.404340Z",
     "iopub.status.busy": "2024-11-24T11:47:13.403855Z",
     "iopub.status.idle": "2024-11-24T11:47:13.419862Z",
     "shell.execute_reply": "2024-11-24T11:47:13.418561Z",
     "shell.execute_reply.started": "2024-11-24T11:47:13.404290Z"
    },
    "trusted": true
   },
   "outputs": [
    {
     "name": "stdout",
     "output_type": "stream",
     "text": [
      "Precision: 0.8982334869431644\n"
     ]
    }
   ],
   "source": [
    "print(\"Precision:\", precision_score(Y_test, Y_pred, average='weighted'))\n"
   ]
  },
  {
   "cell_type": "markdown",
   "metadata": {},
   "source": [
    "### Recall score: the ratio of correctly predicted positives to all observations in the actual class\n"
   ]
  },
  {
   "cell_type": "code",
   "execution_count": 60,
   "metadata": {
    "execution": {
     "iopub.execute_input": "2024-11-24T11:47:13.422048Z",
     "iopub.status.busy": "2024-11-24T11:47:13.421526Z",
     "iopub.status.idle": "2024-11-24T11:47:13.440684Z",
     "shell.execute_reply": "2024-11-24T11:47:13.439332Z",
     "shell.execute_reply.started": "2024-11-24T11:47:13.421999Z"
    },
    "trusted": true
   },
   "outputs": [
    {
     "name": "stdout",
     "output_type": "stream",
     "text": [
      "Recall: 0.9032258064516129\n"
     ]
    }
   ],
   "source": [
    "print(\"Recall:\", recall_score(Y_test, Y_pred, average='weighted'))\n"
   ]
  },
  {
   "cell_type": "markdown",
   "metadata": {},
   "source": [
    "### F1 Score: the harmonic mean of precision and recall, balancing both metrics\n"
   ]
  },
  {
   "cell_type": "code",
   "execution_count": 61,
   "metadata": {
    "execution": {
     "iopub.execute_input": "2024-11-24T11:47:13.442522Z",
     "iopub.status.busy": "2024-11-24T11:47:13.442149Z",
     "iopub.status.idle": "2024-11-24T11:47:13.456686Z",
     "shell.execute_reply": "2024-11-24T11:47:13.455388Z",
     "shell.execute_reply.started": "2024-11-24T11:47:13.442488Z"
    },
    "trusted": true
   },
   "outputs": [
    {
     "name": "stdout",
     "output_type": "stream",
     "text": [
      "F1 Score: 0.892921146953405\n"
     ]
    }
   ],
   "source": [
    "print(\"F1 Score:\", f1_score(Y_test, Y_pred, average='weighted'))\n"
   ]
  },
  {
   "cell_type": "code",
   "execution_count": 62,
   "metadata": {
    "execution": {
     "iopub.execute_input": "2024-11-24T11:47:13.459101Z",
     "iopub.status.busy": "2024-11-24T11:47:13.458318Z",
     "iopub.status.idle": "2024-11-24T11:47:13.810939Z",
     "shell.execute_reply": "2024-11-24T11:47:13.809780Z",
     "shell.execute_reply.started": "2024-11-24T11:47:13.459045Z"
    },
    "trusted": true
   },
   "outputs": [
    {
     "data": {
      "image/png": "[encoded data removed]",
      "text/plain": [
       "<Figure size 800x600 with 2 Axes>"
      ]
     },
     "metadata": {},
     "output_type": "display_data"
    }
   ],
   "source": [
    "report = classification_report(Y_test, Y_pred, output_dict=True)\n",
    "\n",
    "# Convert the classification report to a DataFrame\n",
    "report_df = pd.DataFrame(report).transpose()\n",
    "\n",
    "# Plot the classification report as a heatmap\n",
    "plt.figure(figsize=(8, 6))\n",
    "sns.heatmap(report_df.iloc[:-1, :].T, annot=True, cmap='Blues', fmt='.2f', cbar=True)\n",
    "plt.title('Classification Report - Lung Cancer Prediction')\n",
    "plt.show()"
   ]
  },
  {
   "cell_type": "markdown",
   "metadata": {},
   "source": [
    "## Model Training: Random Forest\n"
   ]
  },
  {
   "cell_type": "code",
   "execution_count": 63,
   "metadata": {
    "execution": {
     "iopub.execute_input": "2024-11-24T11:47:13.812950Z",
     "iopub.status.busy": "2024-11-24T11:47:13.812473Z",
     "iopub.status.idle": "2024-11-24T11:47:14.004900Z",
     "shell.execute_reply": "2024-11-24T11:47:14.003476Z",
     "shell.execute_reply.started": "2024-11-24T11:47:13.812901Z"
    },
    "trusted": true
   },
   "outputs": [
    {
     "name": "stdout",
     "output_type": "stream",
     "text": [
      "Random Forest Accuracy: 0.94\n"
     ]
    }
   ],
   "source": [
    "# Train the Random Forest model\n",
    "model_rf = RandomForestClassifier()\n",
    "model_rf.fit(X_train, Y_train)\n",
    "\n",
    "# Make predictions\n",
    "Y_pred_rf = model_rf.predict(X_test)\n",
    "\n",
    "# Evaluate accuracy\n",
    "accuracy_rf = accuracy_score(Y_test, Y_pred_rf)\n",
    "print(f\"Random Forest Accuracy: {accuracy_rf:.2f}\")"
   ]
  },
  {
   "cell_type": "markdown",
   "metadata": {},
   "source": [
    "## MOdel Training - SVM"
   ]
  },
  {
   "cell_type": "code",
   "execution_count": 64,
   "metadata": {
    "execution": {
     "iopub.execute_input": "2024-11-24T11:47:14.006887Z",
     "iopub.status.busy": "2024-11-24T11:47:14.006311Z",
     "iopub.status.idle": "2024-11-24T11:47:14.020420Z",
     "shell.execute_reply": "2024-11-24T11:47:14.019329Z",
     "shell.execute_reply.started": "2024-11-24T11:47:14.006849Z"
    },
    "trusted": true
   },
   "outputs": [
    {
     "name": "stdout",
     "output_type": "stream",
     "text": [
      "Support Vector Machine Accuracy: 0.90\n"
     ]
    }
   ],
   "source": [
    "from sklearn.svm import SVC\n",
    "# Train the SVM model\n",
    "model_svm = SVC()\n",
    "model_svm.fit(X_train, Y_train)\n",
    "\n",
    "# Make predictions\n",
    "Y_pred_svm = model_svm.predict(X_test)\n",
    "\n",
    "# Evaluate accuracy\n",
    "accuracy_svm = accuracy_score(Y_test, Y_pred_svm)\n",
    "print(f\"Support Vector Machine Accuracy: {accuracy_svm:.2f}\")"
   ]
  },
  {
   "cell_type": "markdown",
   "metadata": {},
   "source": [
    "## Model Training- XG Boost\n"
   ]
  },
  {
   "cell_type": "code",
   "execution_count": 65,
   "metadata": {
    "execution": {
     "iopub.execute_input": "2024-11-24T11:47:14.022061Z",
     "iopub.status.busy": "2024-11-24T11:47:14.021673Z",
     "iopub.status.idle": "2024-11-24T11:47:14.033303Z",
     "shell.execute_reply": "2024-11-24T11:47:14.032270Z",
     "shell.execute_reply.started": "2024-11-24T11:47:14.022026Z"
    },
    "trusted": true
   },
   "outputs": [],
   "source": [
    "from xgboost import XGBClassifier\n",
    "num_columns = df.shape[1]\n",
    "num_columns=num_columns-1\n",
    "X=df.iloc[:,0:num_columns] #selects all rows and the first 15 columns\n",
    "Y=df.iloc[:,-1] "
   ]
  },
  {
   "cell_type": "code",
   "execution_count": 66,
   "metadata": {
    "execution": {
     "iopub.execute_input": "2024-11-24T11:47:14.035057Z",
     "iopub.status.busy": "2024-11-24T11:47:14.034666Z",
     "iopub.status.idle": "2024-11-24T11:47:14.050823Z",
     "shell.execute_reply": "2024-11-24T11:47:14.049558Z",
     "shell.execute_reply.started": "2024-11-24T11:47:14.035022Z"
    },
    "trusted": true
   },
   "outputs": [
    {
     "data": {
      "text/plain": [
       "Index(['GENDER', 'AGE', 'SMOKING', 'YELLOW_FINGERS', 'ANXIETY',\n",
       "       'PEER_PRESSURE', 'CHRONIC DISEASE', 'FATIGUE ', 'ALLERGY ', 'WHEEZING',\n",
       "       'ALCOHOL CONSUMING', 'COUGHING', 'SHORTNESS OF BREATH',\n",
       "       'SWALLOWING DIFFICULTY', 'CHEST PAIN'],\n",
       "      dtype='object')"
      ]
     },
     "execution_count": 66,
     "metadata": {},
     "output_type": "execute_result"
    }
   ],
   "source": [
    "X.columns"
   ]
  },
  {
   "cell_type": "code",
   "execution_count": 67,
   "metadata": {
    "execution": {
     "iopub.execute_input": "2024-11-24T11:47:14.052871Z",
     "iopub.status.busy": "2024-11-24T11:47:14.052353Z",
     "iopub.status.idle": "2024-11-24T11:47:14.066590Z",
     "shell.execute_reply": "2024-11-24T11:47:14.065449Z",
     "shell.execute_reply.started": "2024-11-24T11:47:14.052822Z"
    },
    "trusted": true
   },
   "outputs": [
    {
     "name": "stdout",
     "output_type": "stream",
     "text": [
      "<class 'pandas.core.series.Series'>\n",
      "RangeIndex: 309 entries, 0 to 308\n",
      "Series name: LUNG_CANCER\n",
      "Non-Null Count  Dtype\n",
      "--------------  -----\n",
      "309 non-null    int64\n",
      "dtypes: int64(1)\n",
      "memory usage: 2.5 KB\n"
     ]
    }
   ],
   "source": [
    "Y.info()"
   ]
  },
  {
   "cell_type": "code",
   "execution_count": 68,
   "metadata": {
    "execution": {
     "iopub.execute_input": "2024-11-24T11:47:14.068354Z",
     "iopub.status.busy": "2024-11-24T11:47:14.068015Z",
     "iopub.status.idle": "2024-11-24T11:47:14.358398Z",
     "shell.execute_reply": "2024-11-24T11:47:14.357475Z",
     "shell.execute_reply.started": "2024-11-24T11:47:14.068321Z"
    },
    "trusted": true
   },
   "outputs": [
    {
     "data": {
      "text/html": [
       "<style>#sk-container-id-4 {color: black;background-color: white;}#sk-container-id-4 pre{padding: 0;}#sk-container-id-4 div.sk-toggleable {background-color: white;}#sk-container-id-4 label.sk-toggleable__label {cursor: pointer;display: block;width: 100%;margin-bottom: 0;padding: 0.3em;box-sizing: border-box;text-align: center;}#sk-container-id-4 label.sk-toggleable__label-arrow:before {content: \"▸\";float: left;margin-right: 0.25em;color: #696969;}#sk-container-id-4 label.sk-toggleable__label-arrow:hover:before {color: black;}#sk-container-id-4 div.sk-estimator:hover label.sk-toggleable__label-arrow:before {color: black;}#sk-container-id-4 div.sk-toggleable__content {max-height: 0;max-width: 0;overflow: hidden;text-align: left;background-color: #f0f8ff;}#sk-container-id-4 div.sk-toggleable__content pre {margin: 0.2em;color: black;border-radius: 0.25em;background-color: #f0f8ff;}#sk-container-id-4 input.sk-toggleable__control:checked~div.sk-toggleable__content {max-height: 200px;max-width: 100%;overflow: auto;}#sk-container-id-4 input.sk-toggleable__control:checked~label.sk-toggleable__label-arrow:before {content: \"▾\";}#sk-container-id-4 div.sk-estimator input.sk-toggleable__control:checked~label.sk-toggleable__label {background-color: #d4ebff;}#sk-container-id-4 div.sk-label input.sk-toggleable__control:checked~label.sk-toggleable__label {background-color: #d4ebff;}#sk-container-id-4 input.sk-hidden--visually {border: 0;clip: rect(1px 1px 1px 1px);clip: rect(1px, 1px, 1px, 1px);height: 1px;margin: -1px;overflow: hidden;padding: 0;position: absolute;width: 1px;}#sk-container-id-4 div.sk-estimator {font-family: monospace;background-color: #f0f8ff;border: 1px dotted black;border-radius: 0.25em;box-sizing: border-box;margin-bottom: 0.5em;}#sk-container-id-4 div.sk-estimator:hover {background-color: #d4ebff;}#sk-container-id-4 div.sk-parallel-item::after {content: \"\";width: 100%;border-bottom: 1px solid gray;flex-grow: 1;}#sk-container-id-4 div.sk-label:hover label.sk-toggleable__label {background-color: #d4ebff;}#sk-container-id-4 div.sk-serial::before {content: \"\";position: absolute;border-left: 1px solid gray;box-sizing: border-box;top: 0;bottom: 0;left: 50%;z-index: 0;}#sk-container-id-4 div.sk-serial {display: flex;flex-direction: column;align-items: center;background-color: white;padding-right: 0.2em;padding-left: 0.2em;position: relative;}#sk-container-id-4 div.sk-item {position: relative;z-index: 1;}#sk-container-id-4 div.sk-parallel {display: flex;align-items: stretch;justify-content: center;background-color: white;position: relative;}#sk-container-id-4 div.sk-item::before, #sk-container-id-4 div.sk-parallel-item::before {content: \"\";position: absolute;border-left: 1px solid gray;box-sizing: border-box;top: 0;bottom: 0;left: 50%;z-index: -1;}#sk-container-id-4 div.sk-parallel-item {display: flex;flex-direction: column;z-index: 1;position: relative;background-color: white;}#sk-container-id-4 div.sk-parallel-item:first-child::after {align-self: flex-end;width: 50%;}#sk-container-id-4 div.sk-parallel-item:last-child::after {align-self: flex-start;width: 50%;}#sk-container-id-4 div.sk-parallel-item:only-child::after {width: 0;}#sk-container-id-4 div.sk-dashed-wrapped {border: 1px dashed gray;margin: 0 0.4em 0.5em 0.4em;box-sizing: border-box;padding-bottom: 0.4em;background-color: white;}#sk-container-id-4 div.sk-label label {font-family: monospace;font-weight: bold;display: inline-block;line-height: 1.2em;}#sk-container-id-4 div.sk-label-container {text-align: center;}#sk-container-id-4 div.sk-container {/* jupyter's `normalize.less` sets `[hidden] { display: none; }` but bootstrap.min.css set `[hidden] { display: none !important; }` so we also need the `!important` here to be able to override the default hidden behavior on the sphinx rendered scikit-learn.org. See: https://github.com/scikit-learn/scikit-learn/issues/21755 */display: inline-block !important;position: relative;}#sk-container-id-4 div.sk-text-repr-fallback {display: none;}</style><div id=\"sk-container-id-4\" class=\"sk-top-container\"><div class=\"sk-text-repr-fallback\"><pre>XGBClassifier(base_score=None, booster=None, callbacks=None,\n",
       "              colsample_bylevel=None, colsample_bynode=None,\n",
       "              colsample_bytree=None, device=None, early_stopping_rounds=None,\n",
       "              enable_categorical=False, eval_metric=None, feature_types=None,\n",
       "              gamma=None, grow_policy=None, importance_type=None,\n",
       "              interaction_constraints=None, learning_rate=None, max_bin=None,\n",
       "              max_cat_threshold=None, max_cat_to_onehot=None,\n",
       "              max_delta_step=None, max_depth=None, max_leaves=None,\n",
       "              min_child_weight=None, missing=nan, monotone_constraints=None,\n",
       "              multi_strategy=None, n_estimators=1000, n_jobs=None,\n",
       "              num_parallel_tree=None, random_state=None, ...)</pre><b>In a Jupyter environment, please rerun this cell to show the HTML representation or trust the notebook. <br />On GitHub, the HTML representation is unable to render, please try loading this page with nbviewer.org.</b></div><div class=\"sk-container\" hidden><div class=\"sk-item\"><div class=\"sk-estimator sk-toggleable\"><input class=\"sk-toggleable__control sk-hidden--visually\" id=\"sk-estimator-id-4\" type=\"checkbox\" checked><label for=\"sk-estimator-id-4\" class=\"sk-toggleable__label sk-toggleable__label-arrow\">XGBClassifier</label><div class=\"sk-toggleable__content\"><pre>XGBClassifier(base_score=None, booster=None, callbacks=None,\n",
       "              colsample_bylevel=None, colsample_bynode=None,\n",
       "              colsample_bytree=None, device=None, early_stopping_rounds=None,\n",
       "              enable_categorical=False, eval_metric=None, feature_types=None,\n",
       "              gamma=None, grow_policy=None, importance_type=None,\n",
       "              interaction_constraints=None, learning_rate=None, max_bin=None,\n",
       "              max_cat_threshold=None, max_cat_to_onehot=None,\n",
       "              max_delta_step=None, max_depth=None, max_leaves=None,\n",
       "              min_child_weight=None, missing=nan, monotone_constraints=None,\n",
       "              multi_strategy=None, n_estimators=1000, n_jobs=None,\n",
       "              num_parallel_tree=None, random_state=None, ...)</pre></div></div></div></div></div>"
      ],
      "text/plain": [
       "XGBClassifier(base_score=None, booster=None, callbacks=None,\n",
       "              colsample_bylevel=None, colsample_bynode=None,\n",
       "              colsample_bytree=None, device=None, early_stopping_rounds=None,\n",
       "              enable_categorical=False, eval_metric=None, feature_types=None,\n",
       "              gamma=None, grow_policy=None, importance_type=None,\n",
       "              interaction_constraints=None, learning_rate=None, max_bin=None,\n",
       "              max_cat_threshold=None, max_cat_to_onehot=None,\n",
       "              max_delta_step=None, max_depth=None, max_leaves=None,\n",
       "              min_child_weight=None, missing=nan, monotone_constraints=None,\n",
       "              multi_strategy=None, n_estimators=1000, n_jobs=None,\n",
       "              num_parallel_tree=None, random_state=None, ...)"
      ]
     },
     "execution_count": 68,
     "metadata": {},
     "output_type": "execute_result"
    }
   ],
   "source": [
    "\n",
    "X_train,X_test,Y_train,Y_test=train_test_split(X,Y,test_size=0.2,random_state=0)\n",
    "xg_model = XGBClassifier(n_estimators=1000)\n",
    "xg_model.fit(X_train, Y_train)\n"
   ]
  },
  {
   "cell_type": "code",
   "execution_count": 69,
   "metadata": {
    "execution": {
     "iopub.execute_input": "2024-11-24T11:47:14.359837Z",
     "iopub.status.busy": "2024-11-24T11:47:14.359447Z",
     "iopub.status.idle": "2024-11-24T11:47:14.384487Z",
     "shell.execute_reply": "2024-11-24T11:47:14.383280Z",
     "shell.execute_reply.started": "2024-11-24T11:47:14.359789Z"
    },
    "trusted": true
   },
   "outputs": [
    {
     "data": {
      "text/plain": [
       "0.996"
      ]
     },
     "execution_count": 69,
     "metadata": {},
     "output_type": "execute_result"
    }
   ],
   "source": [
    "Y_pred = xg_model.predict(X_test)\n",
    "acc_log = round(xg_model.score(X_train, Y_train), 4)\n",
    "acc_log"
   ]
  },
  {
   "cell_type": "code",
   "execution_count": 70,
   "metadata": {
    "execution": {
     "iopub.execute_input": "2024-11-24T11:47:14.389132Z",
     "iopub.status.busy": "2024-11-24T11:47:14.385804Z",
     "iopub.status.idle": "2024-11-24T11:47:14.695306Z",
     "shell.execute_reply": "2024-11-24T11:47:14.694185Z",
     "shell.execute_reply.started": "2024-11-24T11:47:14.389083Z"
    },
    "trusted": true
   },
   "outputs": [
    {
     "name": "stdout",
     "output_type": "stream",
     "text": [
      "Accuracies: [0.9032258064516129, 0.996, 0.9354838709677419, 0.9032258064516129]\n"
     ]
    },
    {
     "data": {
      "image/png": "[encoded data removed]",
      "text/plain": [
       "<Figure size 800x600 with 1 Axes>"
      ]
     },
     "metadata": {},
     "output_type": "display_data"
    }
   ],
   "source": [
    "import matplotlib.pyplot as plt\n",
    "import numpy as np\n",
    "\n",
    "# Model names and their corresponding accuracy values\n",
    "models = ['Logistic Regression', 'XG Boost', 'Random Forest', 'SVM']\n",
    "# Update accuracies with the actual accuracy scores\n",
    "accuracies = [accuracy_lr,acc_log,  accuracy_rf, accuracy_svm]  # Assuming you have accuracy_dt defined\n",
    "\n",
    "# Check that all accuracies are valid numbers\n",
    "print(\"Accuracies:\", accuracies)\n",
    "\n",
    "# Create a bar chart to visualize the accuracy comparison\n",
    "plt.figure(figsize=(8, 6))\n",
    "plt.bar(models, accuracies, color=['#1f77b4', '#ff7f0e', '#2ca02c', '#d62728'])\n",
    "plt.title('Model Accuracy Comparison')\n",
    "plt.xlabel('Model')\n",
    "plt.ylabel('Accuracy')\n",
    "plt.ylim(0, 1)  # Set y-axis limit to 0 to 1 (accuracy range)\n",
    "plt.savefig('accuracy.jpg')\n",
    "plt.show()"
   ]
  },
  {
   "cell_type": "code",
   "execution_count": null,
   "metadata": {
    "trusted": true
   },
   "outputs": [],
   "source": []
  }
 ],
 "metadata": {
  "kaggle": {
   "accelerator": "none",
   "dataSources": [
    {
     "datasetId": 6153797,
     "sourceId": 9998144,
     "sourceType": "datasetVersion"
    }
   ],
   "dockerImageVersionId": 30786,
   "isGpuEnabled": false,
   "isInternetEnabled": true,
   "language": "python",
   "sourceType": "notebook"
  },
  "kernelspec": {
   "display_name": "Python 3",
   "language": "python",
   "name": "python3"
  },
  "language_info": {
   "codemirror_mode": {
    "name": "ipython",
    "version": 3
   },
   "file_extension": ".py",
   "mimetype": "text/x-python",
   "name": "python",
   "nbconvert_exporter": "python",
   "pygments_lexer": "ipython3",
   "version": "3.10.14"
  }
 },
 "nbformat": 4,
 "nbformat_minor": 4
}
